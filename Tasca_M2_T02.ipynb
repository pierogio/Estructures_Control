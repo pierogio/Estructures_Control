{
 "cells": [
  {
   "cell_type": "markdown",
   "id": "e54d232d",
   "metadata": {},
   "source": [
    "Sprint 2. Bàsics de Python"
   ]
  },
  {
   "cell_type": "markdown",
   "id": "dc7f594c",
   "metadata": {},
   "source": [
    "- Exercici 1\n",
    "L'exercici consisteix a crear un programa que et classifiqui una variable numèrica en funció de l’escala Suspès/Aprovat/Notable/Excel·lent.\n",
    "Recorda que Suspès < 5, Aprovat > 5 i < 7, Notable > 7 i < 9 i Excel·lent > 9."
   ]
  },
  {
   "cell_type": "code",
   "execution_count": 1,
   "id": "a7e26b24",
   "metadata": {},
   "outputs": [
    {
     "name": "stdout",
     "output_type": "stream",
     "text": [
      "indicar la nota: 10.1\n",
      "la nota no puede ser mayor que 10\n",
      "indicar la nota: 9.9\n",
      "Excel·lent\n"
     ]
    }
   ],
   "source": [
    "nota=float(input(\"indicar la nota: \"))\n",
    "\n",
    "while nota > 10:\n",
    "    print(\"la nota no puede ser mayor que 10\")\n",
    "    nota=float(input(\"indicar la nota: \"))\n",
    "\n",
    "if nota <5:\n",
    "    print(\"Suspès\")\n",
    "elif nota < 7:\n",
    "    print(\"Aprovat\")\n",
    "elif nota < 9:\n",
    "    print(\"Notable\")\n",
    "else:\n",
    "    print(\"Excel·lent\")\n",
    "    "
   ]
  },
  {
   "cell_type": "markdown",
   "id": "d9cdbfd1",
   "metadata": {},
   "source": [
    "- Exercici 2\n",
    "Utilitzant el següent tutorial crea un programa que et pregunti dos números. T’ha de mostrar un missatge dient si el primer és més gran, el segon és més gran o són iguals."
   ]
  },
  {
   "cell_type": "code",
   "execution_count": 16,
   "id": "f258cb70",
   "metadata": {},
   "outputs": [
    {
     "name": "stdout",
     "output_type": "stream",
     "text": [
      "indicar el numero1: 33.5\n",
      "indicar el numero2: 56\n",
      "el segundo numero 56.0 es mas grande que el primer numero 33.5\n"
     ]
    }
   ],
   "source": [
    "num1=float(input(\"indicar el numero1: \"))\n",
    "num2=float(input(\"indicar el numero2: \"))\n",
    "\n",
    "if num1 < num2:\n",
    "    print(f\"el segundo numero {num2} es mas grande que el primer numero {num1}\")\n",
    "elif num1 > num2:\n",
    "    print(f\"el primer numero {num1} es mas grande que el segundo numero {num2}\")\n",
    "else:\n",
    "    print(\"los dos numeros son iguales\")"
   ]
  },
  {
   "cell_type": "markdown",
   "id": "be69e2b1",
   "metadata": {},
   "source": [
    "- Exercici 3\n",
    "Crea un programa que et pregunti el teu nom, i et demani un número. Si el número és 0, hauria de mostrar un missatge d’error. En cas contrari, hauria de mostrar el nom repetit tants cops com indiqui el número. Per exemple, “Joan Joan Joan”."
   ]
  },
  {
   "cell_type": "code",
   "execution_count": 7,
   "id": "45615275",
   "metadata": {},
   "outputs": [
    {
     "name": "stdout",
     "output_type": "stream",
     "text": [
      "indicar el nombre: pop\n",
      "indicar el numero: 5\n",
      "pop pop pop pop pop "
     ]
    }
   ],
   "source": [
    "nombre=input(\"indicar el nombre: \")\n",
    "numero=int(input(\"indicar el numero: \"))\n",
    "\n",
    "if numero<1:\n",
    "    print(\"error\")\n",
    "\n",
    "for i in range(numero):\n",
    "    print(nombre, end=\" \")"
   ]
  },
  {
   "cell_type": "code",
   "execution_count": 8,
   "id": "73202534",
   "metadata": {},
   "outputs": [
    {
     "name": "stdout",
     "output_type": "stream",
     "text": [
      "indicar el nombre: pop\n",
      "indicar el numero: 0\n",
      "error\n"
     ]
    }
   ],
   "source": [
    "nombre=input(\"indicar el nombre: \")\n",
    "numero=int(input(\"indicar el numero: \"))\n",
    "\n",
    "if numero<1:\n",
    "    print(\"error\")\n",
    "\n",
    "for i in range(numero):\n",
    "    print(nombre, end=\" \")"
   ]
  },
  {
   "cell_type": "markdown",
   "id": "0dc5c0bd",
   "metadata": {},
   "source": [
    "- Exercici 4\n",
    "Crea un programa que donada una llista qualsevol, et digui si és simètrica o no. Si ho és, que et digui quants elements té."
   ]
  },
  {
   "cell_type": "code",
   "execution_count": 11,
   "id": "330e542d",
   "metadata": {},
   "outputs": [
    {
     "name": "stdout",
     "output_type": "stream",
     "text": [
      "es simetrica, y tiene  10 elementos\n"
     ]
    }
   ],
   "source": [
    "lista=[1,2,3,4,5,5,4,3,2,1]\n",
    "\n",
    "if lista[::] == lista[::-1]:\n",
    "    print(\"es simetrica, y tiene \", len(lista), \"elementos\")\n",
    "else:\n",
    "    print(\"no es simetrica\")"
   ]
  },
  {
   "cell_type": "code",
   "execution_count": 10,
   "id": "2e176fba",
   "metadata": {},
   "outputs": [
    {
     "name": "stdout",
     "output_type": "stream",
     "text": [
      "no es simetrica\n"
     ]
    }
   ],
   "source": [
    "lista=[1,2,3,4,5,6,4,3,2,1]\n",
    "\n",
    "if lista[::] == lista[::-1]:\n",
    "    print(\"es simetrica, y tiene \", len(lista), \"elementos\")\n",
    "else:\n",
    "    print(\"no es simetrica\")"
   ]
  },
  {
   "cell_type": "markdown",
   "id": "b9f65567",
   "metadata": {},
   "source": [
    "- Exercici 5\n",
    "Crea un programa que donada una llista, et digui quants números coincideixen amb la seva posició. Per exemple [3,4,2,0,2,3,6] el 2 i el 6 coincideixen."
   ]
  },
  {
   "cell_type": "code",
   "execution_count": 13,
   "id": "e01dc304",
   "metadata": {},
   "outputs": [
    {
     "name": "stdout",
     "output_type": "stream",
     "text": [
      "los numeros que coinciden son: [0, 4, 7, 9]\n"
     ]
    }
   ],
   "source": [
    "lista=[0,2,5,9,4,0,3,7,10,9]\n",
    "\n",
    "resultado=[]\n",
    "contador=-1\n",
    "\n",
    "for numero in lista:\n",
    "    contador=contador+1\n",
    "    if numero==contador:\n",
    "        resultado.append(numero)\n",
    "      \n",
    "    \n",
    "print(f\"los numeros que coinciden son: {resultado}\")"
   ]
  }
 ],
 "metadata": {
  "kernelspec": {
   "display_name": "Python 3 (ipykernel)",
   "language": "python",
   "name": "python3"
  },
  "language_info": {
   "codemirror_mode": {
    "name": "ipython",
    "version": 3
   },
   "file_extension": ".py",
   "mimetype": "text/x-python",
   "name": "python",
   "nbconvert_exporter": "python",
   "pygments_lexer": "ipython3",
   "version": "3.9.16"
  }
 },
 "nbformat": 4,
 "nbformat_minor": 5
}
